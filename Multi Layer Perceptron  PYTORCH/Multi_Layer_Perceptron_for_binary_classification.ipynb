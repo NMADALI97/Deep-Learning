{
 "cells": [
  {
   "cell_type": "markdown",
   "metadata": {
    "colab_type": "text",
    "id": "k4fnzJJDo60Y"
   },
   "source": [
    "\n",
    "\n",
    "\n",
    "\n",
    "## Objective:\n",
    "\n",
    "The objective of this lab is to develop a two hidden layers MLP to perform **binary classification**.\n",
    "\n",
    "We will use a MLP with 2 hidden layer with $n_{h1}=20$ and $n_{h2}=10$ hidden units and ```relu``` activation functions.\n",
    "You will perform 1000 iterations (epochs) of SGD to find the parameters.\n",
    "\n",
    "Note: for this lab, we do not separate the dataset into a train, validation and test part.\n",
    "\n",
    "### Data normalization\n",
    "\n",
    "You should normalize the data to zero mean and unit standard deviation\n",
    "\n",
    "### Model\n",
    "\n",
    "There are various ways to write NN model in pytorch. \n",
    "\n",
    "In this lab, you will write three different implementations:\n",
    "- **Model A**: manually defining the parameters (W1,b1,W2,b2,W3,b3), writing the forward equations, writting the loss equation, calling the .backward() and manually updating the weights using W1.grad. You will write the loop to perform 1000 epochs.\n",
    "- **Model B**: using the Sequential class of pytorch\n",
    "- **Model C**: a custom torch.nn.Module class for this.\n",
    "\n",
    "For Model B and C, you will use the ready made loss and optimization from the nn and optim packages. You can use the same code to optimize the parameters of Model B and C.\n",
    "\n",
    "### Loss\n",
    "\n",
    "Since we are dealing with a binary classification problem, we will use a Binary Cross Entropy loss (use ```torch.nn.BCELoss``` for Model B and C).\n",
    "\n",
    "### Parameters update/ Optimization\n",
    "\n",
    "For updating the parameters, we will use as optimizer a simple SGD algorithm (use ```torch.optim.SGD``` for Model B and C) with a learning rate of 0.1.\n",
    "\n",
    "Don't forget that an optimizer is applied to a set of parameters (```my_model.parameters()``` gives the parameters of the network for Model B and C).\n",
    "Once the gradients have been computed (after the backpropagation has been performed), you can perform one step of optimization (using ```optimizer.step()``` for Model B and C).\n",
    "\n",
    "### Backward propagation\n",
    "\n",
    "Backpropagation is automatically performed in pytorch using the ```autograd``` package. \n",
    "First, reset the gradients of all parameters (using ```optimizer.zero_grad()``` for Model B and C), then perform the backpropagation ```loss.backward()```. \n",
    "\n"
   ]
  },
  {
   "cell_type": "markdown",
   "metadata": {
    "colab_type": "text",
    "id": "tuvU8y2Lo60Z"
   },
   "source": [
    "## Load the python packages"
   ]
  },
  {
   "cell_type": "code",
   "execution_count": 0,
   "metadata": {
    "colab": {},
    "colab_type": "code",
    "id": "I1VTuwVio60a"
   },
   "outputs": [],
   "source": [
    "import torch\n",
    "import torch.nn as nn\n",
    "import torch.nn.functional as F\n",
    "import torch.optim as optim\n",
    "from torch.autograd import Variable\n",
    "\n",
    "import numpy as np\n",
    "import matplotlib.pyplot as plt\n",
    "from sklearn import model_selection\n",
    "from sklearn.metrics import accuracy_score\n",
    "\n"
   ]
  },
  {
   "cell_type": "code",
   "execution_count": 0,
   "metadata": {
    "colab": {},
    "colab_type": "code",
    "id": "aneeMV9wkXum"
   },
   "outputs": [],
   "source": [
    "def Accuracy(outputs,labels):\n",
    "\n",
    "  _, predicted = torch.max(outputs.data, 1)\n",
    "  total = labels.size(0)\n",
    "  correct = (predicted == labels).sum()\n",
    "  accuracy = 100 * correct / total\n",
    "  return accuracy"
   ]
  },
  {
   "cell_type": "code",
   "execution_count": 0,
   "metadata": {
    "colab": {
     "base_uri": "https://localhost:8080/",
     "height": 34
    },
    "colab_type": "code",
    "id": "Zof__thjo60d",
    "outputId": "4765412c-548a-4f12-f849-fa249647a02c"
   },
   "outputs": [
    {
     "name": "stdout",
     "output_type": "stream",
     "text": [
      "1.1.0\n"
     ]
    }
   ],
   "source": [
    "print(torch.__version__)"
   ]
  },
  {
   "cell_type": "markdown",
   "metadata": {
    "colab_type": "text",
    "id": "Bsb-phrJo60g"
   },
   "source": [
    "## Dataset\n",
    "\n",
    "We take the usual circle dataset from sklearn."
   ]
  },
  {
   "cell_type": "code",
   "execution_count": 0,
   "metadata": {
    "colab": {},
    "colab_type": "code",
    "id": "Otam7ukPo60g"
   },
   "outputs": [],
   "source": [
    "from sklearn import datasets\n",
    "X, y = datasets.make_circles(n_samples=1000, noise=0.2, factor=0.5)\n"
   ]
  },
  {
   "cell_type": "markdown",
   "metadata": {
    "colab_type": "text",
    "id": "JMpPOgl-W-rr"
   },
   "source": [
    "## Normalization"
   ]
  },
  {
   "cell_type": "code",
   "execution_count": 0,
   "metadata": {
    "colab": {},
    "colab_type": "code",
    "id": "F2VBK-1sW8pT"
   },
   "outputs": [],
   "source": [
    "X -= np.mean(X, axis=0, keepdims=True) \n",
    "X /= (np.std(X, axis=0, keepdims=True) + 1e-16)"
   ]
  },
  {
   "cell_type": "markdown",
   "metadata": {
    "colab_type": "text",
    "id": "mDwk7CU3XBJ1"
   },
   "source": [
    "## Split between training set and test set"
   ]
  },
  {
   "cell_type": "code",
   "execution_count": 0,
   "metadata": {
    "colab": {},
    "colab_type": "code",
    "id": "U8Vfy8Tok4gR"
   },
   "outputs": [],
   "source": [
    "X_train, X_test, y_train, y_test = model_selection.train_test_split(X, y, test_size=0.2)\n",
    "# --- Convert the numpy tensors to torch tensors\n",
    "\n",
    "X_train, X_test, y_train, y_test=torch.from_numpy(X_train).float(),torch.from_numpy(X_test).float(),torch.from_numpy(y_train).float(),torch.from_numpy(y_test).float()"
   ]
  },
  {
   "cell_type": "markdown",
   "metadata": {
    "colab_type": "text",
    "id": "-5idAV4Co60i"
   },
   "source": [
    "We convert the ```numpy tensors``` to ```torch tensors```. \n",
    "The difference being that the latters allows to do automatic gradient differentiation (back-propagation)."
   ]
  },
  {
   "cell_type": "code",
   "execution_count": 0,
   "metadata": {
    "colab": {
     "base_uri": "https://localhost:8080/",
     "height": 121
    },
    "colab_type": "code",
    "id": "YHgd8JYPo60l",
    "outputId": "535afdf6-0529-4af1-c944-e24732cf3ac3"
   },
   "outputs": [
    {
     "name": "stdout",
     "output_type": "stream",
     "text": [
      "X_train.shape: torch.Size([800, 2])\n",
      "X_test.shape: torch.Size([200, 2])\n",
      "y_train.shape: torch.Size([800])\n",
      "y_test.shape: torch.Size([200])\n",
      "y_train.shape: torch.Size([800])\n",
      "y_test.shape: torch.Size([200])\n"
     ]
    }
   ],
   "source": [
    "print(\"X_train.shape: {}\".format(X_train.size()))\n",
    "print(\"X_test.shape: {}\".format(X_test.size()))\n",
    "print(\"y_train.shape: {}\".format(y_train.size()))\n",
    "print(\"y_test.shape: {}\".format(y_test.size()))\n",
    "print(\"y_train.shape: {}\".format(y_train.size()))\n",
    "print(\"y_test.shape: {}\".format(y_test.size()))\n"
   ]
  },
  {
   "cell_type": "markdown",
   "metadata": {
    "colab_type": "text",
    "id": "Rc3VgVWOo60p"
   },
   "source": [
    "## Definition of the hyper-parameters"
   ]
  },
  {
   "cell_type": "code",
   "execution_count": 0,
   "metadata": {
    "colab": {},
    "colab_type": "code",
    "id": "OrBQMqCJo60r"
   },
   "outputs": [],
   "source": [
    "n_in = X_train.shape[1]\n",
    "n_h1 = 20\n",
    "n_h2 = 10\n",
    "n_out = 1\n",
    "\n",
    "nb_epoch = 10000\n",
    "alpha = 0.1"
   ]
  },
  {
   "cell_type": "markdown",
   "metadata": {
    "colab_type": "text",
    "id": "CIzjntgZo60t"
   },
   "source": [
    "## Model 1 (writing the network equations)\n",
    "\n",
    "Here, you will define the variables and write the equations of the network yourself (as you would do in numpy).\n",
    "However you will use ```torch tensors``` instead of ```numpy array```. \n",
    "\n",
    "***Why ?*** because torch tensors will allows you to automatically get the gradient. You will use ```loss.backward``` to launch the backpropagation from ```loss```. Then, for all tensors you created and for which you declared ```requires_grad=True```, you will get the gradient of ```loss```with respect to this variable in the field ```.grad```. \n",
    "\n",
    "***Example*** ```W1 = torch.tensors(..., requires_grad=True)``` ... ```loss.backward``` will have the gradient $\\frac{d Loss}{d W1}$in ```W1.grad```.\n",
    "\n",
    "Don't forget that the weight $W_1, W_2, \\cdots$ matrices should be initialized randomly with small values; while the bias vectors $b_1, b_2, \\cdots$can be initialized to zero."
   ]
  },
  {
   "cell_type": "code",
   "execution_count": 0,
   "metadata": {
    "colab": {
     "base_uri": "https://localhost:8080/",
     "height": 454
    },
    "colab_type": "code",
    "id": "HB65rqW4o60u",
    "outputId": "a91493a3-8db0-4dd5-878d-8566fda6d84a"
   },
   "outputs": [
    {
     "name": "stdout",
     "output_type": "stream",
     "text": [
      "epoch: 0 (cost: train 0.69 test 0.69) (accuracy: train 0.50 test 0.47)\n"
     ]
    },
    {
     "name": "stderr",
     "output_type": "stream",
     "text": [
      "/usr/local/lib/python3.6/dist-packages/torch/nn/modules/loss.py:512: UserWarning: Using a target size (torch.Size([800])) that is different to the input size (torch.Size([800, 1])) is deprecated. Please ensure they have the same size.\n",
      "  return F.binary_cross_entropy(input, target, weight=self.weight, reduction=self.reduction)\n",
      "/usr/local/lib/python3.6/dist-packages/torch/nn/modules/loss.py:512: UserWarning: Using a target size (torch.Size([200])) that is different to the input size (torch.Size([200, 1])) is deprecated. Please ensure they have the same size.\n",
      "  return F.binary_cross_entropy(input, target, weight=self.weight, reduction=self.reduction)\n"
     ]
    },
    {
     "name": "stdout",
     "output_type": "stream",
     "text": [
      "epoch: 500 (cost: train 0.69 test 0.69) (accuracy: train 0.51 test 0.47)\n",
      "epoch: 1000 (cost: train 0.69 test 0.69) (accuracy: train 0.51 test 0.47)\n",
      "epoch: 1500 (cost: train 0.69 test 0.69) (accuracy: train 0.51 test 0.47)\n",
      "epoch: 2000 (cost: train 0.69 test 0.69) (accuracy: train 0.51 test 0.47)\n",
      "epoch: 2500 (cost: train 0.69 test 0.69) (accuracy: train 0.51 test 0.47)\n",
      "epoch: 3000 (cost: train 0.69 test 0.69) (accuracy: train 0.51 test 0.47)\n",
      "epoch: 3500 (cost: train 0.69 test 0.69) (accuracy: train 0.51 test 0.47)\n",
      "epoch: 4000 (cost: train 0.69 test 0.69) (accuracy: train 0.51 test 0.47)\n",
      "epoch: 4500 (cost: train 0.69 test 0.69) (accuracy: train 0.51 test 0.47)\n",
      "epoch: 5000 (cost: train 0.69 test 0.69) (accuracy: train 0.51 test 0.47)\n",
      "epoch: 5500 (cost: train 0.68 test 0.68) (accuracy: train 0.61 test 0.57)\n",
      "epoch: 6000 (cost: train 0.31 test 0.32) (accuracy: train 0.89 test 0.91)\n",
      "epoch: 6500 (cost: train 0.25 test 0.26) (accuracy: train 0.89 test 0.91)\n",
      "epoch: 7000 (cost: train 0.25 test 0.25) (accuracy: train 0.89 test 0.91)\n",
      "epoch: 7500 (cost: train 0.24 test 0.25) (accuracy: train 0.89 test 0.91)\n",
      "epoch: 8000 (cost: train 0.24 test 0.25) (accuracy: train 0.90 test 0.91)\n",
      "epoch: 8500 (cost: train 0.24 test 0.24) (accuracy: train 0.90 test 0.91)\n",
      "epoch: 9000 (cost: train 0.24 test 0.24) (accuracy: train 0.90 test 0.91)\n",
      "epoch: 9500 (cost: train 0.24 test 0.24) (accuracy: train 0.90 test 0.91)\n"
     ]
    }
   ],
   "source": [
    "# --- We first initialize the variables of the network (W1, b1, ...)\n",
    "\n",
    "W1 = Variable(torch.rand(n_in, n_h1) * 0.01, requires_grad=True)\n",
    "b1 = Variable(torch.zeros(1, n_h1) * 0.01, requires_grad=True)\n",
    "    \n",
    "W2 = Variable(torch.rand(n_h1, n_h2) * 0.01, requires_grad=True)\n",
    "b2 = Variable(torch.zeros(1, n_h2) * 0.01, requires_grad=True)\n",
    "\n",
    "W3 = Variable(torch.rand(n_h2, n_out) * 0.01, requires_grad=True)\n",
    "b3 = Variable(torch.zeros(1, n_out) * 0.01, requires_grad=True)\n",
    "    \n",
    "\n",
    "# --- We then write a function to perform the forward pass (using pytorch opertaors, not numpy operators)\n",
    "# --- taking X as input and returing hat_y as output\n",
    "    \n",
    "def model(X):\n",
    "\n",
    "      \n",
    "        A0 = X \n",
    "        Z1 = torch.mm(A0,W1)+b1\n",
    "        A1 = F.relu(Z1)\n",
    "        Z2 = torch.mm(A1,W2)+b2\n",
    "        A2 = F.relu(Z2)\n",
    "        Z3 = torch.mm(A2,W3)+b3\n",
    "        A3 = torch.sigmoid(Z3)\n",
    "        hat_y = A3\n",
    "\n",
    "       \n",
    "    return hat_y\n",
    "\n",
    "# --- We then iterate over epochs (we do not perform split into mini-batch here)\n",
    "# --- For each iteration, we\n",
    "# ---   a) perform the forward pass, \n",
    "# ---   b) compute the loss/cost, \n",
    "# ---   c) compute the backward pass to get the gradients of the cost w.r.t. the parameters W1, b1, ...\n",
    "# ---   d) perform the update of the parameters W1, b1, ...\n",
    "\n",
    "train_cost, train_accuracy, test_cost, test_accuracy = [], [], [], []\n",
    "\n",
    "for num_epoch in range(0, nb_epoch):    \n",
    "\n",
    "    # --- a) Forward pass: X (n_in, N), hat_y (n_out, N)\n",
    "    hat_y = model(X_train)\n",
    "\n",
    "    # -- We clip hat_y in order to avoid log(0)\n",
    "    eps = 1e-10\n",
    "    hat_y = torch.clamp(hat_y, eps, 1-eps)\n",
    "    \n",
    "    # --- b) Computing the loss/cost\n",
    "    loss = torch.nn.BCELoss()\n",
    "    cost = loss(hat_y,y_train)\n",
    "      \n",
    "        \n",
    "    # --- Store results on train\n",
    "    train_cost.append( cost )\n",
    "    train_accuracy.append( accuracy_score(hat_y.data.round(), y_train.data) )\n",
    "    \n",
    "    \n",
    "\n",
    "    # --- c) Backward pass\n",
    "    cost.backward()\n",
    "    \n",
    "    # --- \"with torch.no_grad()\" temporarily set all the requires_grad flag to false\n",
    "    with torch.no_grad():\n",
    "        # --- d) perform the update of the parameters W1, b1, ...\n",
    "        \n",
    "            # --- the gradients dLoss/dW1 is stored in W1.grad, dLoss/db1 is stored in b1.grad, ...\n",
    "          \n",
    "        W1 -=(alpha*W1.grad)\n",
    "        b1 -= (alpha*b1.grad)\n",
    "            \n",
    "        W2 -= (alpha*W2.grad)\n",
    "        b2 -= (alpha*b2.grad)\n",
    "            \n",
    "        W3 -= (alpha*W3.grad)\n",
    "        b3 -= (alpha*b3.grad)\n",
    "      \n",
    "\n",
    "    # --- We need to set to zero all gradients (otherwise they are cumulated)\n",
    "    W1.grad.zero_()\n",
    "    b1.grad.zero_()\n",
    "    W2.grad.zero_()\n",
    "    b2.grad.zero_()\n",
    "    W3.grad.zero_()\n",
    "    b3.grad.zero_()\n",
    "    \n",
    "    # --- Store results on test\n",
    "    hat_y_test = model(X_test)\n",
    "    test_cost.append(loss(hat_y_test,y_test))\n",
    "    test_accuracy.append( accuracy_score(hat_y_test.data.round(), y_test.data) )\n",
    "    \n",
    "    if num_epoch % 500 == 0:\n",
    "        print(\"epoch: {0:d} (cost: train {1:.2f} test {2:.2f}) (accuracy: train {3:.2f} test {4:.2f})\".format(num_epoch, train_cost[-1], test_cost[-1], train_accuracy[-1], test_accuracy[-1]))"
   ]
  },
  {
   "cell_type": "code",
   "execution_count": 0,
   "metadata": {
    "colab": {
     "base_uri": "https://localhost:8080/",
     "height": 517
    },
    "colab_type": "code",
    "id": "EaVy3zrCoNNK",
    "outputId": "63f79497-76f0-47d4-8f49-ffc9b3738bff"
   },
   "outputs": [
    {
     "data": {
      "text/plain": [
       "<matplotlib.legend.Legend at 0x7ffb6755b2b0>"
      ]
     },
     "execution_count": 10,
     "metadata": {
      "tags": []
     },
     "output_type": "execute_result"
    },
    {
     "data": {
      "image/png": "[encoded data removed]",
      "text/plain": [
       "<Figure size 576x576 with 2 Axes>"
      ]
     },
     "metadata": {
      "tags": []
     },
     "output_type": "display_data"
    }
   ],
   "source": [
    "plt.figure(figsize=(8,8))\n",
    "plt.subplot(1,2,1)\n",
    "plt.plot(train_cost, 'r',label=\"Train Cost\")\n",
    "plt.plot(test_cost, 'g--',label=\"Test Cost\")\n",
    "plt.xlabel('# epoch')\n",
    "plt.ylabel('loss')\n",
    "plt.grid(True)\n",
    "plt.legend( loc='upper right')\n",
    "\n",
    "plt.subplot(1,2,2)\n",
    "plt.plot(train_accuracy, 'r',label=\"Train Accuracy\")\n",
    "plt.plot(test_accuracy, 'g--',label=\"Test Accuracy\")\n",
    "plt.xlabel('# epoch')\n",
    "plt.ylabel('accuracy')\n",
    "plt.grid(True)\n",
    "plt.legend( loc='center right')"
   ]
  },
  {
   "cell_type": "markdown",
   "metadata": {
    "colab_type": "text",
    "id": "lxgA4DXVo60w"
   },
   "source": [
    "## Model 2 (using nn.sequential)\n",
    "\n",
    "Here, you will use the package ```torch.nn``` which comes with a predefined set of layers. The syntax is close to the one of ```keras```(```Sequential```), but differs in the fact that layers are splitted into the matrix multiplication followed by a non-linear activations (```keras```merge both using the ```Dense```layers).\n",
    "\n",
    "The model created will have all its parameters accessible as a dictionary and can be accessed using ```model.parameters()```. It is therefore a convenient way to write simple sequential networks."
   ]
  },
  {
   "cell_type": "code",
   "execution_count": 0,
   "metadata": {
    "colab": {},
    "colab_type": "code",
    "id": "elGQpQzjo60x"
   },
   "outputs": [],
   "source": [
    "\n",
    "    \n",
    "my_model =nn.Sequential(nn.Linear(n_in, n_h1),\n",
    "            nn.ReLU(True),\n",
    "            nn.Linear(n_h1, n_h2),\n",
    "            nn.ReLU(True),\n",
    "            nn.Linear(n_h2, n_out),\n",
    "            nn.Sigmoid())\n",
    "\n",
    "   \n",
    "  "
   ]
  },
  {
   "cell_type": "markdown",
   "metadata": {
    "colab_type": "text",
    "id": "4twpnbEAo60z"
   },
   "source": [
    "## Model 3 (using a class definition)\n",
    "\n",
    "Here, you will write the network using the recommended pytroch way; i.e. by defining a class.\n",
    "This class inherit from the main class ```torch.nn.Module```.\n",
    "You only need to write the ```__init__``` method and the ```forward``` method.\n",
    "\n",
    "In object programming, the ```__init__``` method defines the attributes of your class. Since the attributes of your  network are the parameters to be trained (weights and biases), you should declare in the ```__init``` all the layers that involve parameters to be trained (mostly the ```Linear```layers which perform the matrix multiplication).\n",
    "\n",
    "The ```forward``` method contains the code of the forward pass itself. It can of course call attributes defined in the ```__init___``` method. It is the method used when calling ```model(x)```.\n",
    "\n",
    "As before, the model created will have all its parameters accessible as a dictionary and can be accessed using ```model.parameters()```. \n",
    "\n",
    "Classes are convenient way to write more complex network than what you can do with ```nn.sequential```. Note that you can actually include a ```nn.sequential``` in your class."
   ]
  },
  {
   "cell_type": "code",
   "execution_count": 0,
   "metadata": {
    "colab": {},
    "colab_type": "code",
    "id": "ZNsNkq9Do60z"
   },
   "outputs": [],
   "source": [
    "class Net(torch.nn.Module):\n",
    "    def __init__(self, n_in, n_h1, n_h2, n_out):\n",
    "        super(Net, self).__init__()\n",
    "        \n",
    "        self.fc1 = nn.Linear(n_in, n_h1,bias=True)\n",
    "        self.fc2 = nn.Linear(n_h1, n_h2,bias=True)\n",
    "        self.fc3 = nn.Linear(n_h2, n_out,bias=True)\n",
    "        \n",
    "    def forward(self, X):\n",
    "        \n",
    "       \n",
    "            \n",
    "            A0 = X\n",
    "            A1 = F.relu(self.fc1(A0))\n",
    "            A2 = F.relu(self.fc2(A1))\n",
    "            A3 = torch.sigmoid(self.fc3(A2))\n",
    "           \n",
    "\n",
    "        return A3\n",
    "\n",
    "\n",
    "my_model = Net(n_in, n_h1, n_h2, n_out)\n"
   ]
  },
  {
   "cell_type": "markdown",
   "metadata": {
    "colab_type": "text",
    "id": "ts4aVeIPo601"
   },
   "source": [
    "## Criterion and Optimization for model 2 and model 3\n",
    "\n",
    "The code of Model 1 is self-contained, i.e. it already contains all necessary instruction to perform forawrd, loss, backward and parameter updates.\n",
    "\n",
    "When using ```nn.sequential``` (model 2) or a class definition of the network (model 3), we still need to define \n",
    "- what we will minimize (the loss to be minimized, i.e. Binary-Cross-Entropy). We can of course write the equation of it by hand but pytorch comes with a very large number of pre-build loss functions (within ```torch.nn```)\n",
    "- how we will minimize the loss, i.e. what parameter update algorithms we will use (SGD, momentum). We can of course write the equation of it by hand but pytorch comes with a very large number of pre-build loss functions (within ```torch.nn```)"
   ]
  },
  {
   "cell_type": "code",
   "execution_count": 0,
   "metadata": {
    "colab": {},
    "colab_type": "code",
    "id": "xs63V-Wgo602"
   },
   "outputs": [],
   "source": [
    "criterion = torch.nn.BCELoss()\n",
    "optimizer = torch.optim.SGD(my_model.parameters(), lr=alpha)\n",
    "   "
   ]
  },
  {
   "cell_type": "markdown",
   "metadata": {
    "colab_type": "text",
    "id": "qL7ePZi9o604"
   },
   "source": [
    "## Training for model 2 and 3"
   ]
  },
  {
   "cell_type": "markdown",
   "metadata": {
    "colab_type": "text",
    "id": "XamuBM_ho604"
   },
   "source": [
    "Having defined the network, the citerion to be minimized and the optimizer, we then perform a loop over epochs (iterations); at each step we\n",
    "- compute the forward pass by passing the data to the model: ```haty = model(x)```\n",
    "- compute the the loss (the criterion)\n",
    "- putting at zero the gradients of all the parameters of the network (this is important since, by default, pytorch accumulate the gradients over time)\n",
    "- computing the backpropagation (using as before ```.backward()```)\n",
    "- performing one step of optimization (using ```.step()```)"
   ]
  },
  {
   "cell_type": "code",
   "execution_count": 0,
   "metadata": {
    "colab": {
     "base_uri": "https://localhost:8080/",
     "height": 454
    },
    "colab_type": "code",
    "id": "rKfrD8V3o605",
    "outputId": "75732e2e-4461-4276-ad8e-fcc164fd7030"
   },
   "outputs": [
    {
     "name": "stderr",
     "output_type": "stream",
     "text": [
      "/usr/local/lib/python3.6/dist-packages/torch/nn/modules/loss.py:512: UserWarning: Using a target size (torch.Size([800])) that is different to the input size (torch.Size([800, 1])) is deprecated. Please ensure they have the same size.\n",
      "  return F.binary_cross_entropy(input, target, weight=self.weight, reduction=self.reduction)\n",
      "/usr/local/lib/python3.6/dist-packages/torch/nn/modules/loss.py:512: UserWarning: Using a target size (torch.Size([200])) that is different to the input size (torch.Size([200, 1])) is deprecated. Please ensure they have the same size.\n",
      "  return F.binary_cross_entropy(input, target, weight=self.weight, reduction=self.reduction)\n"
     ]
    },
    {
     "name": "stdout",
     "output_type": "stream",
     "text": [
      "epoch: 0 (cost: train 0.68 test 0.68) (accuracy: train 0.59 test 0.56)\n",
      "epoch: 500 (cost: train 0.25 test 0.25) (accuracy: train 0.90 test 0.91)\n",
      "epoch: 1000 (cost: train 0.24 test 0.24) (accuracy: train 0.91 test 0.90)\n",
      "epoch: 1500 (cost: train 0.24 test 0.24) (accuracy: train 0.91 test 0.90)\n",
      "epoch: 2000 (cost: train 0.24 test 0.24) (accuracy: train 0.91 test 0.90)\n",
      "epoch: 2500 (cost: train 0.24 test 0.24) (accuracy: train 0.91 test 0.90)\n",
      "epoch: 3000 (cost: train 0.24 test 0.24) (accuracy: train 0.91 test 0.90)\n",
      "epoch: 3500 (cost: train 0.24 test 0.24) (accuracy: train 0.91 test 0.90)\n",
      "epoch: 4000 (cost: train 0.24 test 0.24) (accuracy: train 0.91 test 0.90)\n",
      "epoch: 4500 (cost: train 0.24 test 0.24) (accuracy: train 0.91 test 0.90)\n",
      "epoch: 5000 (cost: train 0.24 test 0.24) (accuracy: train 0.91 test 0.90)\n",
      "epoch: 5500 (cost: train 0.24 test 0.24) (accuracy: train 0.91 test 0.90)\n",
      "epoch: 6000 (cost: train 0.24 test 0.24) (accuracy: train 0.91 test 0.90)\n",
      "epoch: 6500 (cost: train 0.24 test 0.24) (accuracy: train 0.91 test 0.90)\n",
      "epoch: 7000 (cost: train 0.24 test 0.24) (accuracy: train 0.91 test 0.90)\n",
      "epoch: 7500 (cost: train 0.24 test 0.24) (accuracy: train 0.91 test 0.90)\n",
      "epoch: 8000 (cost: train 0.24 test 0.24) (accuracy: train 0.91 test 0.90)\n",
      "epoch: 8500 (cost: train 0.24 test 0.24) (accuracy: train 0.91 test 0.90)\n",
      "epoch: 9000 (cost: train 0.24 test 0.24) (accuracy: train 0.91 test 0.90)\n",
      "epoch: 9500 (cost: train 0.24 test 0.24) (accuracy: train 0.91 test 0.91)\n"
     ]
    }
   ],
   "source": [
    "train_cost, train_accuracy, test_cost, test_accuracy = [], [], [], []\n",
    "for num_epoch in range(nb_epoch):\n",
    "  \n",
    "    hat_y = my_model(X_train) # Forward pass: Compute predicted y by passing  x to the model          \n",
    "    loss = criterion(hat_y, y_train) # Compute loss \n",
    "        \n",
    "        # --- Store results on train\n",
    "    train_cost.append( loss )\n",
    "    train_accuracy.append( accuracy_score(hat_y.data.round(), y_train.data) )\n",
    "                              \n",
    "        # Zero gradients, perform a backward pass, and update the weights. \n",
    "    optimizer.zero_grad() # re-init the gradients (otherwise they are cumulated)\n",
    "    loss.backward() # perform back-propagation\n",
    "    optimizer.step() # update the weights\n",
    "     \n",
    "        \n",
    "        # --- Store results on test                  \n",
    "    hat_y_test = my_model(X_test)                      \n",
    "    test_cost.append(criterion(hat_y_test,y_test))\n",
    "    test_accuracy.append( accuracy_score(hat_y_test.data.round(), y_test.data) )\n",
    "   \n",
    "\n",
    "    if num_epoch % 500 == 0:\n",
    "        print(\"epoch: {0:d} (cost: train {1:.2f} test {2:.2f}) (accuracy: train {3:.2f} test {4:.2f})\".format(num_epoch, train_cost[-1], test_cost[-1], train_accuracy[-1], test_accuracy[-1]))\n",
    "        \n",
    "    "
   ]
  },
  {
   "cell_type": "code",
   "execution_count": 0,
   "metadata": {
    "colab": {
     "base_uri": "https://localhost:8080/",
     "height": 517
    },
    "colab_type": "code",
    "id": "-JlCZotUqPKa",
    "outputId": "25d4998a-9dca-4664-bfc1-45a438a097b8"
   },
   "outputs": [
    {
     "data": {
      "text/plain": [
       "<matplotlib.legend.Legend at 0x7ffb64ad82e8>"
      ]
     },
     "execution_count": 15,
     "metadata": {
      "tags": []
     },
     "output_type": "execute_result"
    },
    {
     "data": {
      "image/png": "[encoded data removed]",
      "text/plain": [
       "<Figure size 576x576 with 2 Axes>"
      ]
     },
     "metadata": {
      "tags": []
     },
     "output_type": "display_data"
    }
   ],
   "source": [
    "plt.figure(figsize=(8,8))\n",
    "plt.subplot(1,2,1)\n",
    "plt.plot(train_cost, 'r',label=\"Train Cost\")\n",
    "plt.plot(test_cost, 'g--',label=\"Test Cost\")\n",
    "plt.xlabel('# epoch')\n",
    "plt.ylabel('loss')\n",
    "plt.grid(True)\n",
    "plt.legend( loc='upper right')\n",
    "\n",
    "plt.subplot(1,2,2)\n",
    "plt.plot(train_accuracy, 'r',label=\"Train Accuracy\")\n",
    "plt.plot(test_accuracy, 'g--',label=\"Test Accuracy\")\n",
    "plt.xlabel('# epoch')\n",
    "plt.ylabel('accuracy')\n",
    "plt.grid(True)\n",
    "plt.legend( loc='center right')"
   ]
  },
  {
   "cell_type": "markdown",
   "metadata": {
    "colab_type": "text",
    "id": "pMkWkWlMV6Tp"
   },
   "source": []
  }
 ],
 "metadata": {
  "accelerator": "GPU",
  "colab": {
   "collapsed_sections": [],
   "name": "Multi Layer Perceptron for binary-classification.ipynb",
   "provenance": []
  },
  "kernelspec": {
   "display_name": "Python 3",
   "language": "python",
   "name": "python3"
  },
  "language_info": {
   "codemirror_mode": {
    "name": "ipython",
    "version": 3
   },
   "file_extension": ".py",
   "mimetype": "text/x-python",
   "name": "python",
   "nbconvert_exporter": "python",
   "pygments_lexer": "ipython3",
   "version": "3.6.7"
  },
  "toc": {
   "base_numbering": 1,
   "nav_menu": {},
   "number_sections": true,
   "sideBar": true,
   "skip_h1_title": false,
   "title_cell": "Table of Contents",
   "title_sidebar": "Contents",
   "toc_cell": false,
   "toc_position": {},
   "toc_section_display": true,
   "toc_window_display": true
  }
 },
 "nbformat": 4,
 "nbformat_minor": 1
}
